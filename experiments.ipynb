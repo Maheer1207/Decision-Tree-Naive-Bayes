{
  {
   "cell_type": "code",
   "execution_count": 1,
   "metadata": {},
   "outputs": [],
   "source": [
    "# !pip install numpy==1.26.3\n",
    "# !pip install matplotlib==3.8.2"
   ]
  },
  {
   "cell_type": "code",
   "execution_count": 2,
   "metadata": {},
   "outputs": [],
   "source": [
    "import _pickle as pickle\n",
    "import matplotlib.pyplot as plt\n",
    "import numpy as np\n",
    "import timeit\n",
    "\n",
    "from functools import partial\n",
    "\n",
    "from decision_tree import *\n",
    "from naive_bayes import *"
   ]
  },
  {
   "cell_type": "markdown",
   "metadata": {},
   "source": [
    "# Debug"
   ]
  },
  {
   "cell_type": "markdown",
   "metadata": {},
   "source": [
    "## Decision Tree"
   ]
  },
  {
   "cell_type": "code",
   "execution_count": 3,
   "metadata": {},
   "outputs": [
    {
     "name": "stdout",
     "output_type": "stream",
     "text": [
      "Correct Pred 1-D Linear Seperable, 2 class: True\n",
      "Correct Pred 1-D Random, 2 class: True\n"
     ]
    }
   ],
   "source": [
    "def  test_dt():\n",
    "    with open('./datasets/test_dt.pkl', 'rb') as f:\n",
    "        test = pickle.load(f)\n",
    "\n",
    "    seed = 0\n",
    "    num_classes = 2\n",
    "    max_depth = 10\n",
    "    min_leaf_data = 10\n",
    "    min_entropy = 1e-3\n",
    "    num_split_retries = 10\n",
    "    debug = False\n",
    "\n",
    "    # 1-D Linear Seperable\n",
    "    X_1 = test['X_1']\n",
    "    y_1 = test['y_1']\n",
    "    tree = train_dt(X_1, y_1, seed, max_depth, min_leaf_data, min_entropy, num_split_retries, num_classes, debug)\n",
    "    print('Correct Pred 1-D Linear Seperable, 2 class: {}'.format(np.allclose(predict_dt(tree, X_1), test['pred_1'])))\n",
    "\n",
    "    # 1-D Random, 2 Class\n",
    "    X_2 = test['X_2']\n",
    "    y_2 = test['y_2']\n",
    "    tree = train_dt(X_2,\n",
    "                    y_2,\n",
    "                    seed,\n",
    "                    max_depth,\n",
    "                    min_leaf_data,\n",
    "                    min_entropy,\n",
    "                    num_split_retries,\n",
    "                    num_classes,\n",
    "                    debug)\n",
    "    print('Correct Pred 1-D Random, 2 class: {}'.format(np.allclose(predict_dt(tree, X_2), test['pred_2'])))\n",
    "\n",
    "    # Optional TODO: Add your own test cases\n",
    "\n",
    "test_dt()"
   ]
  },
  {
   "cell_type": "markdown",
   "metadata": {},
   "source": [
    "## Naive Bayes"
   ]
  },
  {
   "cell_type": "code",
   "execution_count": 4,
   "metadata": {},
   "outputs": [
    {
     "name": "stdout",
     "output_type": "stream",
     "text": [
      "Correct Means: True\n",
      "Correct Covariances: False\n",
      "Correct Priors: True\n",
      "Correct Predictions: False\n",
      "Details:\n",
      "Expected Covariances:\n",
      "[[[0.3162762  0.         0.         0.        ]\n",
      "  [0.         0.20136545 0.         0.        ]\n",
      "  [0.         0.         0.020453   0.        ]\n",
      "  [0.         0.         0.         0.01494969]]\n",
      "\n",
      " [[0.03227129 0.         0.         0.        ]\n",
      "  [0.         0.03999377 0.         0.        ]\n",
      "  [0.         0.         0.03210299 0.        ]\n",
      "  [0.         0.         0.         0.05702627]]]\n",
      "Got:\n",
      "[[[ 0.39534525  0.01388076 -0.05345584  0.04401924]\n",
      "  [ 0.01388076  0.25170681  0.02392024 -0.00864227]\n",
      "  [-0.05345584  0.02392024  0.02556625 -0.01207081]\n",
      "  [ 0.04401924 -0.00864227 -0.01207081  0.01868712]]\n",
      "\n",
      " [[ 0.04033912  0.01364553  0.01444811 -0.02521278]\n",
      "  [ 0.01364553  0.04999221  0.008488   -0.04831147]\n",
      "  [ 0.01444811  0.008488    0.04012874 -0.03893751]\n",
      "  [-0.02521278 -0.04831147 -0.03893751  0.07128283]]]\n",
      "Expected Predictions:\n",
      "[[1.00000000e+00 1.36002659e-28]\n",
      " [9.98449485e-01 1.55051499e-03]\n",
      " [1.00000000e+00 1.14367329e-15]\n",
      " [9.99999993e-01 6.81795694e-09]\n",
      " [1.00000000e+00 1.27999381e-14]\n",
      " [8.64867519e-12 1.00000000e+00]\n",
      " [7.12520787e-06 9.99992875e-01]\n",
      " [2.98709765e-03 9.97012902e-01]\n",
      " [2.69515420e-03 9.97304846e-01]\n",
      " [5.68057448e-02 9.43194255e-01]]\n",
      "Got:\n",
      "[[1.00000000e+00 4.73741627e-29]\n",
      " [9.99459359e-01 5.40641226e-04]\n",
      " [1.00000000e+00 3.98378717e-16]\n",
      " [9.99999998e-01 2.37491683e-09]\n",
      " [1.00000000e+00 4.45863599e-15]\n",
      " [2.48287833e-11 1.00000000e+00]\n",
      " [2.04549113e-05 9.99979545e-01]\n",
      " [8.52776162e-03 9.91472238e-01]\n",
      " [7.69848371e-03 9.92301516e-01]\n",
      " [1.47412967e-01 8.52587033e-01]]\n",
      "===========================================================================\n"
     ]
    }
   ],
   "source": [
    "def test_nb():\n",
    "    with open('./datasets/test_nb.pkl', 'rb') as f:\n",
    "        gt_data = pickle.load(f)\n",
    "        data = gt_data[\"nb\"]\n",
    "\n",
    "    num_features = gt_data[\"X\"].shape[1]\n",
    "    num_classes = len(np.unique(gt_data[\"y\"]))\n",
    "    params = train_nb(gt_data[\"X\"], gt_data[\"y\"], num_classes)\n",
    "\n",
    "    correct_means = np.allclose(params.means, data[\"means\"])\n",
    "    correct_covariances = np.allclose(params.covariances, data[\"covariances\"])\n",
    "    correct_priors = np.allclose(params.priors, data[\"priors\"])\n",
    "\n",
    "    correct_params = Params(data[\"means\"],\n",
    "                            data[\"covariances\"],\n",
    "                            data[\"priors\"],\n",
    "                            num_features,\n",
    "                            num_classes)\n",
    "    model_probs = predict_nb(correct_params, gt_data[\"X\"])\n",
    "    correct_predictions = np.allclose(model_probs, data[\"predictions\"])\n",
    "\n",
    "    print(f\"Correct Means: {correct_means}\")\n",
    "    print(f\"Correct Covariances: {correct_covariances}\")\n",
    "    print(f\"Correct Priors: {correct_priors}\")\n",
    "    print(f\"Correct Predictions: {correct_predictions}\")\n",
    "\n",
    "    print(\"Details:\")\n",
    "    if not correct_means:\n",
    "        print(\"Expected Mean:\")\n",
    "        print(data[\"means\"])\n",
    "        print(\"Got:\")\n",
    "        print(params.means)\n",
    "\n",
    "    if not correct_covariances:\n",
    "        print(\"Expected Covariances:\")\n",
    "        print(data[\"covariances\"])\n",
    "        print(\"Got:\")\n",
    "        print(params.covariances)\n",
    "\n",
    "    if not correct_priors:\n",
    "        print(\"Expected Priors:\")\n",
    "        print(data[\"priors\"])\n",
    "        print(\"Got:\")\n",
    "        print(params.priors)\n",
    "\n",
    "    if not correct_predictions:\n",
    "        print(\"Expected Predictions:\")\n",
    "        print(data[\"predictions\"])\n",
    "        print(\"Got:\")\n",
    "        print(model_probs)\n",
    "\n",
    "    print(\"=\" * 75)\n",
    "\n",
    "    # Optional TODO: Add your own test cases\n",
    "\n",
    "test_nb()"
   ]
  },
  {
   "cell_type": "markdown",
   "metadata": {},
   "source": [
    "# Lending Club"
   ]
  },
  {
   "cell_type": "markdown",
   "metadata": {},
   "source": [
    "### Helper Functions"
   ]
  },
  {
   "cell_type": "code",
   "execution_count": 5,
   "metadata": {},
   "outputs": [],
   "source": [
    "def get_dataset_info():\n",
    "    with open(\"./datasets/lending_club.pkl\", \"rb\") as f:\n",
    "        lc_data =  pickle.load(f)\n",
    "\n",
    "    # Train data\n",
    "    train_X = lc_data['train_X']\n",
    "    train_y = lc_data['train_y']\n",
    "    \n",
    "    # Validation data\n",
    "    validation_X = lc_data['validation_X']\n",
    "\n",
    "    num_features = train_X.shape[-1]\n",
    "    num_classes = len(np.unique(train_y))\n",
    "\n",
    "    print(\"Dataset Information =============================\")\n",
    "    print(\"Number of input features: {}, Number of classes: {}\".format(num_features, num_classes))\n",
    "    print(\"Number training points: {}\".format(len(train_X)))\n",
    "    print(\"Number validation points: {}\".format(len(validation_X)))\n",
    "    return num_features, num_classes\n",
    "\n",
    "def accuracy(y, p):\n",
    "    \"\"\" This returns the accuracy of prediction given true labels.\n",
    "\n",
    "    Args:\n",
    "    - y (ndarray (shape: (N,1))): A Nx1 matrix consisting of true labels\n",
    "    - p (ndarray (shape: (N,C))): A NxC matrix consisting N C-dimensional probabilities for each input.\n",
    "    \n",
    "    Output:\n",
    "    - acc (float): Accuracy of predictions compared to true labels\n",
    "    \"\"\"\n",
    "    assert y.shape[0] == p.shape[0], f\"Number of samples must match\"\n",
    "\n",
    "    # Pick indicies that maximize each row\n",
    "    y_pred = np.expand_dims(np.argmax(p, axis=1), axis=1)\n",
    "    acc = sum(y_pred == y) * 100 / y.shape[0]\n",
    "\n",
    "    return acc\n",
    "\n",
    "def print_result(train_accs, val_accs, test_accs):\n",
    "    mean_train = np.mean(train_accs, axis=(-1, -2))\n",
    "    std_train = np.std(train_accs, axis=(-1, -2))\n",
    "\n",
    "    mean_val = np.mean(val_accs, axis=(-1, -2))\n",
    "    std_val = np.std(val_accs, axis=(-1, -2))\n",
    "\n",
    "    print(\"Train accuracy: {}% +/- {}\".format(mean_train, std_train,))\n",
    "    print(\"Validation accuracy: {}% +/- {}\".format(mean_val, std_val,))\n",
    "\n",
    "    mean_test = None\n",
    "    std_test = None\n",
    "    if len(test_accs):\n",
    "        mean_test = np.mean(test_accs, axis=(-1, -2))\n",
    "        std_test = np.std(test_accs, axis=(-1, -2))\n",
    "        print(\"Test accuracy: {}% +/- {}\".format(mean_test, std_test))"
   ]
  },
  {
   "cell_type": "markdown",
   "metadata": {},
   "source": [
    "## Run Lending Club Experiments"
   ]
  },
  {
   "cell_type": "code",
   "execution_count": 6,
   "metadata": {},
   "outputs": [],
   "source": [
    "def run_lc(train, predict, final_hyperparameters, seed, num_runs):\n",
    "    # Load dataset\n",
    "    with open(\"./datasets/lending_club.pkl\", \"rb\") as f:\n",
    "        lc_data =  pickle.load(f)\n",
    "\n",
    "    # Train data\n",
    "    train_X = lc_data['train_X']\n",
    "    train_y = lc_data['train_y']\n",
    "    \n",
    "    # Validation data\n",
    "    validation_X = lc_data['validation_X']\n",
    "    validation_y = lc_data['validation_y']\n",
    "\n",
    "    # Test data\n",
    "    test_X, test_y = None, None\n",
    "    if final_hyperparameters:\n",
    "        test_X = lc_data['test_X']\n",
    "        test_y = lc_data['test_y']\n",
    "\n",
    "    train_accs = []\n",
    "    validation_accs = []\n",
    "    test_accs = []\n",
    "    train_times = []\n",
    "\n",
    "    rng = np.random.RandomState(seed)\n",
    "    seeds = rng.randint(0, 2 ** 32 - 1, size=(num_runs,))\n",
    "    for run_seed in seeds:\n",
    "        tic = timeit.default_timer()\n",
    "        params = train(train_X, train_y, seed=run_seed)\n",
    "        toc = timeit.default_timer()\n",
    "        train_times.append(toc - tic)\n",
    "\n",
    "        # Training Accuracy\n",
    "        train_predictions = predict(params, train_X)\n",
    "        train_accs.append(accuracy(train_y, train_predictions))\n",
    "\n",
    "        if validation_X is not None and validation_y is not None:\n",
    "            # Validation Accuracy\n",
    "            validation_predictions = predict(params, validation_X)\n",
    "            validation_accs.append(accuracy(validation_y, validation_predictions))\n",
    "\n",
    "        if test_X is not None and test_y is not None:\n",
    "            # Testing Accuracy\n",
    "            test_predictions = predict(params, test_X)\n",
    "            test_accs.append(accuracy(test_y, test_predictions))\n",
    "\n",
    "    return train_accs, validation_accs, test_accs, train_times, seeds"
   ]
  },
  {
   "cell_type": "code",
   "execution_count": 7,
   "metadata": {},
   "outputs": [
    {
     "name": "stdout",
     "output_type": "stream",
     "text": [
      "Dataset Information =============================\n",
      "Number of input features: 21, Number of classes: 2\n",
      "Number training points: 74176\n",
      "Number validation points: 18544\n"
     ]
    }
   ],
   "source": [
    "num_features, num_classes = get_dataset_info()"
   ]
  },
  {
   "cell_type": "markdown",
   "metadata": {},
   "source": [
    "## Decision Tree"
   ]
  },
  {
   "cell_type": "markdown",
   "metadata": {},
   "source": [
    "### Plot train/validation curves\n",
    "Note: This may take around 6.5 minutes to run, longer with inefficient code"
   ]
  },
  {
   "cell_type": "code",
   "execution_count": 8,
   "metadata": {},
   "outputs": [
    {
     "name": "stdout",
     "output_type": "stream",
     "text": [
      "==================================================\n",
      "max_depth = 1\n",
      "Seeds: [1608637542 3421126067 4083286876  787846414 3143890026]\n",
      "Average train accuracy: 63.855964193270054% +/- 1.2489214840379617\n",
      "Average validation accuracy: 63.78127696289905% +/- 1.4279551337359777\n",
      "Total time taken: 7.491547748999437s\n",
      "Average time taken: 1.4983095497998875s +/- 0.4614101265017663\n",
      "==================================================\n",
      "\n",
      "==================================================\n",
      "max_depth = 2\n",
      "Seeds: [1608637542 3421126067 4083286876  787846414 3143890026]\n",
      "Average train accuracy: 66.07123597929248% +/- 3.181622088006907\n",
      "Average validation accuracy: 66.00086281276963% +/- 3.0112165660051797\n",
      "Total time taken: 11.659079208038747s\n",
      "Average time taken: 2.3318158416077495s +/- 0.42161648102441307\n",
      "==================================================\n",
      "\n",
      "==================================================\n",
      "max_depth = 4\n",
      "Seeds: [1608637542 3421126067 4083286876  787846414 3143890026]\n",
      "Average train accuracy: 74.95955565142364% +/- 1.2763269263737622\n",
      "Average validation accuracy: 74.76056945642794% +/- 1.1782489487503198\n",
      "Total time taken: 21.10613966800156s\n",
      "Average time taken: 4.2212279336003125s +/- 0.5721344279328964\n",
      "==================================================\n",
      "\n",
      "==================================================\n",
      "max_depth = 8\n",
      "Seeds: [1608637542 3421126067 4083286876  787846414 3143890026]\n",
      "Average train accuracy: 79.41733175150992% +/- 0.20874856847191842\n",
      "Average validation accuracy: 79.29572907679034% +/- 0.3705546050592202\n",
      "Total time taken: 38.885335708007915s\n",
      "Average time taken: 7.777067141601583s +/- 0.5155531140085815\n",
      "==================================================\n",
      "\n",
      "==================================================\n",
      "max_depth = 16\n",
      "Seeds: [1608637542 3421126067 4083286876  787846414 3143890026]\n",
      "Average train accuracy: 84.63114754098362% +/- 0.14405860881459603\n",
      "Average validation accuracy: 78.47282139775669% +/- 0.30649594435560357\n",
      "Total time taken: 124.23504920798587s\n",
      "Average time taken: 24.847009841597174s +/- 0.5365378570964623\n",
      "==================================================\n",
      "\n",
      "==================================================\n",
      "max_depth = 20\n",
      "Seeds: [1608637542 3421126067 4083286876  787846414 3143890026]\n",
      "Average train accuracy: 90.05931837791199% +/- 0.31544817358259813\n",
      "Average validation accuracy: 76.90573770491804% +/- 0.2497783360264906\n",
      "Total time taken: 196.85035066699493s\n",
      "Average time taken: 39.37007013339898s +/- 1.2081550060299144\n",
      "==================================================\n",
      "\n"
     ]
    }
   ],
   "source": [
    "max_depths = [1, 2, 4, 8, 16, 20]\n",
    "\n",
    "seed = 42\n",
    "num_runs = 5\n",
    "train_accs = []\n",
    "val_accs = []\n",
    "times_taken = []\n",
    "for max_depth in max_depths:\n",
    "    print(\"=\" * 50)\n",
    "    print(\"max_depth = {}\".format(max_depth))\n",
    "    curr_train_accs, curr_val_accs, _, curr_times_taken, seeds = run_lc(\n",
    "        train=partial(train_dt,\n",
    "                      max_depth=max_depth,\n",
    "                      min_leaf_data=1,\n",
    "                      min_entropy=0.0,\n",
    "                      num_split_retries=num_features,\n",
    "                      debug=False,\n",
    "                      num_classes=num_classes,),\n",
    "        predict=predict_dt,\n",
    "        final_hyperparameters=False,\n",
    "        seed=seed,\n",
    "        num_runs=num_runs,\n",
    "    )\n",
    "    times_taken.append(curr_times_taken)\n",
    "    train_accs.append(curr_train_accs)\n",
    "    val_accs.append(curr_val_accs)\n",
    "    print(\"Seeds: {}\".format(seeds))\n",
    "    print(\"Average train accuracy: {}% +/- {}\".format(np.mean(curr_train_accs), np.std(curr_train_accs)))\n",
    "    print(\"Average validation accuracy: {}% +/- {}\".format(np.mean(curr_val_accs), np.std(curr_val_accs)))\n",
    "    print(\"Total time taken: {}s\".format(np.sum(curr_times_taken)))\n",
    "    print(\"Average time taken: {}s +/- {}\".format(np.mean(curr_times_taken), np.std(curr_times_taken)))\n",
    "    print(\"=\" * 50)\n",
    "    print(\"\")"
   ]
  },
  {
   "cell_type": "code",
   "execution_count": 9,
   "metadata": {},
   "outputs": [
    {
     "data": {
      "text/plain": [
       "<matplotlib.legend.Legend at 0x11ba49c10>"
      ]
     },
     "execution_count": 9,
     "metadata": {},
     "output_type": "execute_result"
    },
    {
     "data": {
      "image/png": "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",
      "text/plain": [
       "<Figure size 640x480 with 1 Axes>"
      ]
     },
     "metadata": {},
     "output_type": "display_data"
    }
   ],
   "source": [
    "mean_train = np.mean(train_accs, axis=(-1, -2))\n",
    "std_train = np.std(train_accs, axis=(-1, -2))\n",
    "\n",
    "mean_val = np.mean(val_accs, axis=(-1, -2))\n",
    "std_val = np.std(val_accs, axis=(-1, -2))\n",
    "\n",
    "plt.plot(max_depths, mean_train, label=\"Train\")\n",
    "plt.fill_between(max_depths, mean_train - std_train, mean_train + std_train, alpha=0.3)\n",
    "\n",
    "plt.plot(max_depths, mean_val, label=\"Validation\")\n",
    "plt.fill_between(max_depths, mean_val - std_val, mean_val + std_val, alpha=0.3)\n",
    "\n",
    "plt.title(\"Decision Tree Accuracy\")\n",
    "plt.xlabel(\"Maximum Depth\")\n",
    "plt.ylabel(\"Accuracy (%)\")\n",
    "plt.legend()"
   ]
  },
  {
   "cell_type": "markdown",
   "metadata": {},
   "source": [
    "Based on the above curve, for which value of `maximum_depth` will you choose? Why?  \n",
    "Enter solution in the block below:\n",
    "```\n",
    "I will choose maximum depth to be 8, as from the graph above 8 is depth which seemed to have highest accuracy and similar for both Train and validation.\n",
    "```\n",
    "\n",
    "Given the above observation, can you find the best hyperparameters that will achieve the best performance?"
   ]
  },
  {
   "cell_type": "code",
   "execution_count": 10,
   "metadata": {},
   "outputs": [
    {
     "name": "stdout",
     "output_type": "stream",
     "text": [
      "Train accuracy: 79.41733175150992% +/- 0.20874856847191842\n",
      "Validation accuracy: 79.29572907679034% +/- 0.3705546050592202\n",
      "Test accuracy: 79.0146678170837% +/- 0.2621105340507742\n"
     ]
    }
   ],
   "source": [
    "# TODO: validation set to tune hyperparameters for the Occupancy dataset\n",
    "# For efficiency, consider max_depth <= 10.\n",
    "hyperparameters = {\n",
    "    \"max_depth\": 8,\n",
    "    \"min_leaf_data\": 2,\n",
    "    \"min_entropy\": 0.3,\n",
    "    \"num_split_retries\": num_features,\n",
    "    \"debug\": False,\n",
    "    \"num_classes\": num_classes\n",
    "}\n",
    "\n",
    "# TODO: Set final_hyperparameters to True when best hyperparameters is found\n",
    "train_accs, val_accs, test_accs, _, _ = run_lc(train=partial(train_dt,\n",
    "                                                             **hyperparameters),\n",
    "                                               predict=predict_dt,\n",
    "                                               final_hyperparameters=True,\n",
    "                                               seed=seed,\n",
    "                                               num_runs=num_runs)\n",
    "\n",
    "print_result(train_accs, val_accs, test_accs)"
   ]
  },
  {
   "cell_type": "markdown",
   "metadata": {},
   "source": [
    "## Naive Bayes"
   ]
  },
  {
   "cell_type": "code",
   "execution_count": 11,
   "metadata": {},
   "outputs": [
    {
     "name": "stdout",
     "output_type": "stream",
     "text": [
      "Train accuracy: [array([67.86157248])]%, Validation accuracy: [array([67.70383952])]%, Test accuracy: [array([67.36842105])]%\n"
     ]
    }
   ],
   "source": [
    "train_acc, val_acc, test_acc, _, _ = run_lc(train=partial(train_nb,\n",
    "                                                          num_classes=num_classes),\n",
    "                                            predict=predict_nb,\n",
    "                                            final_hyperparameters=True,\n",
    "                                            seed=seed,\n",
    "                                            num_runs=1)\n",
    "print(\"Train accuracy: {}%, Validation accuracy: {}%, Test accuracy: {}%\".format(train_acc, val_acc, test_acc))"
   ]
  },
  {
   "cell_type": "markdown",
   "metadata": {},
   "source": [
    "Which model will you choose? Why?  \n",
    "Enter solution in the block below:\n",
    "```\n",
    "I would choose Decision Tree on Naive Bayes. As the after tuning the hyperparameters, the accuracy for Decision tree is significantly better than the Naive Bayes system. \n",
    "```"
   ]
  },
  {
   "cell_type": "markdown",
   "metadata": {},
   "source": [
    "### Credit\n",
    "CMPUT 466/566 - Machine Learning, Winter 2024, Assignment 1  \n",
    "B. Chan"
   ]
  }
 ],
 "metadata": {
  "kernelspec": {
   "display_name": ".venv",
   "language": "python",
   "name": "python3"
  },
  "language_info": {
   "codemirror_mode": {
    "name": "ipython",
    "version": 3
   },
   "file_extension": ".py",
   "mimetype": "text/x-python",
   "name": "python",
   "nbconvert_exporter": "python",
   "pygments_lexer": "ipython3",
   "version": "3.11.5"
  }
 },
 "nbformat": 4,
 "nbformat_minor": 2
}
